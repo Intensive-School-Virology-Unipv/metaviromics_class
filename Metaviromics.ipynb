{
 "cells": [
  {
   "cell_type": "markdown",
   "metadata": {},
   "source": [
    "# Metaviromics\n",
    "\n",
    "In this exercise we will use a very basic workflow for the search of viral metagenomes from RNA-seq data. \n",
    "\n",
    "## Before starting\n",
    "\n",
    "Create the folders in which we'll store our data. There are two folders already: Fastq and ReferenceGenome whose content is self-explicatory! Let's create folders for the alignment, the unmapped reads, Clark output table and the viral reads we'll select. SPAdes will create is own output folder."
   ]
  },
  {
   "cell_type": "code",
   "execution_count": null,
   "metadata": {},
   "outputs": [],
   "source": [
    "cd /home/student/DATA/metaviromics_data/\n",
    "mkdir alignment unmapped clark viral\n",
    "cd /Fastq\n",
    "cat *R1_L*.fastq.gz > RNAseq_R1.fastq.gz\n",
    "cat *R2_L*.fastq.gz > RNAseq_R2.fastq.gz"
   ]
  },
  {
   "cell_type": "markdown",
   "metadata": {},
   "source": [
    "Step 1: Check if the fastq files are good. Let's use fastqc. After the program finishes just open with any browser the .html files."
   ]
  },
  {
   "cell_type": "code",
   "execution_count": null,
   "metadata": {},
   "outputs": [],
   "source": [
    "fastqc RNAseq_R1.fastq.gz RNAseq_R2.fastq.gz"
   ]
  },
  {
   "cell_type": "markdown",
   "metadata": {},
   "source": [
    "Step 3: Build the index for Hisat2 (it will be used to map RNA-sequencing reads)"
   ]
  },
  {
   "cell_type": "code",
   "execution_count": null,
   "metadata": {},
   "outputs": [],
   "source": [
    "cd ../ReferenceGenome\n",
    "hisat2-build AaegL5_Chr1.fa AaegL5_index"
   ]
  },
  {
   "cell_type": "markdown",
   "metadata": {},
   "source": [
    "Step 4: Map the RNA-seq raw reads to the host reference genome. In our case a fragment of the African Tiger Mosquito (Aedes albopictus) Chromosome 1. The output will be a SAM file which is uncompressed."
   ]
  },
  {
   "cell_type": "code",
   "execution_count": null,
   "metadata": {},
   "outputs": [],
   "source": [
    "cd ..\n",
    "hisat2 -x ReferenceGenome/AaegL5_index -1 Fastq/RNAseq_R1.fastq -2 Fastq/RNAseq_R2.fastq -p 2 -S alignment/RNAseq_AlignedRefGenome.sam"
   ]
  },
  {
   "cell_type": "markdown",
   "metadata": {},
   "source": [
    "Step 5: Extract the unmapped reads. We are interested in reads that are NOT derived from the host genome."
   ]
  },
  {
   "cell_type": "code",
   "execution_count": null,
   "metadata": {},
   "outputs": [],
   "source": [
    "samtools fastq -@ 2 -f 4 alignment/RNAseq_AlignedRefGenome.sam -1 unmapped/Unmapped_R1.fastq -2 unmapped/Unmapped_R2.fastq -s unmapped/Singletons.fastq"
   ]
  },
  {
   "cell_type": "markdown",
   "metadata": {},
   "source": [
    "Step 6: Time to start searching for viruses! Assemble contigs using SPAdes in viral RNA mode."
   ]
  },
  {
   "cell_type": "code",
   "execution_count": null,
   "metadata": {},
   "outputs": [],
   "source": [
    "rnaviralspades.py -t 2 -m 2 -1 unmapped/Unmapped_R1.fastq -2 umapped/Unmapped_R2.fastq -s unmapped/Singletons.fastq -o SPAdes_output"
   ]
  },
  {
   "cell_type": "markdown",
   "metadata": {},
   "source": [
    "Step 7: Let's classify all the contigs produced by SPAdes using our custom database of viruses (including Flaviviruses, Alphaviruses and Vesiculoviruses) and see if we find any contig from these genera!\n",
    "Do NOT launch this command, as it will require to donwload the taxonomy, which will take a lot of time. "
   ]
  },
  {
   "cell_type": "code",
   "execution_count": null,
   "metadata": {
    "scrolled": true
   },
   "outputs": [],
   "source": [
    "bash set_targets.sh /Clark/ClarkDB/ custom\n",
    "bash classify_metagenome.sh -m 2 -n 4 -O SPAdes_output/contigs.fasta -R Clark/Clark_output"
   ]
  },
  {
   "cell_type": "markdown",
   "metadata": {},
   "source": [
    "Step 8: Extract a fasta file with only the fasta sequences that were classified as viral by Clark. First, create a file with the names of the reads you want to extract (the viral ones).\n",
    "Take note of which contigs have a viral ID before proceeding and mark them on a file."
   ]
  },
  {
   "cell_type": "code",
   "execution_count": null,
   "metadata": {},
   "outputs": [],
   "source": [
    "python ExtractFasta.py -f SPAdes_output/contigs.fasta -k viral/virIDs.txt > viral/Viral_contigs.fasta"
   ]
  },
  {
   "cell_type": "markdown",
   "metadata": {},
   "source": [
    "## Now that we have clark output and the viral contigs fasta...\n",
    "\n",
    "Let's check them using BLAST, NCBI viral taxonomy, metagenomics analysis tools (e.g. MEGAN), online tools, visualize the data using Krona..."
   ]
  }
 ],
 "metadata": {
  "kernelspec": {
   "display_name": "Python 2",
   "language": "python",
   "name": "python2"
  },
  "language_info": {
   "codemirror_mode": {
    "name": "ipython",
    "version": 2
   },
   "file_extension": ".py",
   "mimetype": "text/x-python",
   "name": "python",
   "nbconvert_exporter": "python",
   "pygments_lexer": "ipython2",
   "version": "2.7.14"
  }
 },
 "nbformat": 4,
 "nbformat_minor": 5
}
